{
 "cells": [
  {
   "cell_type": "markdown",
   "metadata": {},
   "source": [
    "### 🔧 Import"
   ]
  },
  {
   "cell_type": "code",
   "execution_count": 1,
   "metadata": {},
   "outputs": [],
   "source": [
    "from azure_config import AzureConfig\n",
    "from config import Config\n",
    "from src.digit_recognition.mnist_evaluation import MNISTEvaluation\n",
    "from src.file.file_loader import FileLoader\n",
    "from src.file.file_writer import FileWriter\n",
    "from src.neuralnet.to_dict.network_to_dict import NetworkToDict\n",
    "from src.pipeline.population_modifiers.epoch.parallel_evaluation_epoch import ParallelEvaluationEpoch\n",
    "from src.pipeline.population_modifiers.evolver.population_evolver import PopulationEvolver\n",
    "from src.pipeline.pipeline import Pipeline\n",
    "from src.pipeline.population import PopulationDTO\n",
    "from src.pipeline.population_modifiers.file.load_population import LoadPopulation\n",
    "from src.pipeline.population_modifiers.file.save_population import SavePopulation\n",
    "from src.pipeline.population_modifiers.population_mutator import PopulationMutator"
   ]
  },
  {
   "cell_type": "markdown",
   "metadata": {},
   "source": [
    "### 📦 Initialize Dependencies"
   ]
  },
  {
   "cell_type": "code",
   "execution_count": 2,
   "metadata": {},
   "outputs": [],
   "source": [
    "config = Config()\n",
    "azure_config = AzureConfig()\n",
    "\n",
    "network_to_dict = NetworkToDict()\n",
    "\n",
    "file_loader = FileLoader()\n",
    "file_writer = FileWriter()\n",
    "\n",
    "evaluation = MNISTEvaluation()"
   ]
  },
  {
   "cell_type": "markdown",
   "metadata": {},
   "source": [
    "### 🪈 Configure Pipeline"
   ]
  },
  {
   "cell_type": "code",
   "execution_count": 3,
   "metadata": {},
   "outputs": [],
   "source": [
    "pipeline = Pipeline()\n",
    "\n",
    "pipeline.add(LoadPopulation(config.input_file_path, network_to_dict, file_loader))\n",
    "pipeline.add(ParallelEvaluationEpoch(evaluation))\n",
    "pipeline.add(PopulationEvolver(config.percent_predation))\n",
    "pipeline.add(PopulationMutator(config))\n",
    "pipeline.add(SavePopulation(config.output_file_path, network_to_dict, file_writer))"
   ]
  },
  {
   "cell_type": "markdown",
   "metadata": {},
   "source": [
    "### 🏃‍♀️💨 Execute Training Cycles"
   ]
  },
  {
   "cell_type": "code",
   "execution_count": null,
   "metadata": {},
   "outputs": [
    {
     "name": "stdout",
     "output_type": "stream",
     "text": [
      "FileLoader - Loading population file from ./populations/population100_2136_10.json\n",
      "EvaluationEpoch - Evaluation Epoch complete!\n",
      "EvaluationEpoch - Average score: 19.63\n",
      "EvaluationEpoch - Min score: 11, 85df489d-045e-42d3-8483-c640c3f465df\n",
      "EvaluationEpoch - Max score: 27, 909966bb-75e5-4249-8467-455a3f6d54f6\n",
      "PopulationEvolver - Evolving 1 individuals from population of 100 individuals.\n",
      "PopulationDestroyer - Destroying 1 individuals from population of 100 individuals.\n",
      "FileWriter - Saving population file to ./populations/population100_2136_10.json\n",
      "Saved population of size 100 to ./populations/population100_2136_10.json.\n",
      "Running score: 19.63/32\n",
      "Running percent correct: 0.6134375\n",
      "FileLoader - Loading population file from ./populations/population100_2136_10.json\n",
      "EvaluationEpoch - Evaluation Epoch complete!\n",
      "EvaluationEpoch - Average score: 19.35\n",
      "EvaluationEpoch - Min score: 13, 7fe42162-c6a7-4150-8706-92dbbbdea696\n",
      "EvaluationEpoch - Max score: 28, 85df489d-045e-42d3-8483-c640c3f465df\n",
      "PopulationEvolver - Evolving 1 individuals from population of 100 individuals.\n",
      "PopulationDestroyer - Destroying 1 individuals from population of 100 individuals.\n",
      "FileWriter - Saving population file to ./populations/population100_2136_10.json\n",
      "Saved population of size 100 to ./populations/population100_2136_10.json.\n",
      "Running score: 38.980000000000004/64\n",
      "Running percent correct: 0.6090625000000001\n",
      "FileLoader - Loading population file from ./populations/population100_2136_10.json\n",
      "EvaluationEpoch - Evaluation Epoch complete!\n",
      "EvaluationEpoch - Average score: 19.83\n",
      "EvaluationEpoch - Min score: 13, 15edce21-508d-46db-8ea9-44953399877d\n",
      "EvaluationEpoch - Max score: 28, 09f9ddcf-3f76-4c7b-803a-38d82e1726aa\n",
      "PopulationEvolver - Evolving 1 individuals from population of 100 individuals.\n",
      "PopulationDestroyer - Destroying 1 individuals from population of 100 individuals.\n",
      "FileWriter - Saving population file to ./populations/population100_2136_10.json\n",
      "Saved population of size 100 to ./populations/population100_2136_10.json.\n",
      "Running score: 58.81/96\n",
      "Running percent correct: 0.6126041666666667\n",
      "FileLoader - Loading population file from ./populations/population100_2136_10.json\n",
      "EvaluationEpoch - Evaluation Epoch complete!\n",
      "EvaluationEpoch - Average score: 18.66\n",
      "EvaluationEpoch - Min score: 12, f6034c1f-cd4c-4382-b168-ed51ff05f747\n",
      "EvaluationEpoch - Max score: 25, 09f9ddcf-3f76-4c7b-803a-38d82e1726aa\n",
      "PopulationEvolver - Evolving 1 individuals from population of 100 individuals.\n",
      "PopulationDestroyer - Destroying 1 individuals from population of 100 individuals.\n",
      "FileWriter - Saving population file to ./populations/population100_2136_10.json\n",
      "Saved population of size 100 to ./populations/population100_2136_10.json.\n",
      "Running score: 77.47/128\n",
      "Running percent correct: 0.605234375\n",
      "FileLoader - Loading population file from ./populations/population100_2136_10.json\n",
      "EvaluationEpoch - Evaluation Epoch complete!\n",
      "EvaluationEpoch - Average score: 19.32\n",
      "EvaluationEpoch - Min score: 13, bb607992-5236-405f-bc03-5a951a9502d8\n",
      "EvaluationEpoch - Max score: 26, 85df489d-045e-42d3-8483-c640c3f465df\n",
      "PopulationEvolver - Evolving 1 individuals from population of 100 individuals.\n",
      "PopulationDestroyer - Destroying 1 individuals from population of 100 individuals.\n",
      "FileWriter - Saving population file to ./populations/population100_2136_10.json\n",
      "Saved population of size 100 to ./populations/population100_2136_10.json.\n",
      "Running score: 96.78999999999999/160\n",
      "Running percent correct: 0.6049374999999999\n",
      "FileLoader - Loading population file from ./populations/population100_2136_10.json\n",
      "EvaluationEpoch - Evaluation Epoch complete!\n",
      "EvaluationEpoch - Average score: 19.86\n",
      "EvaluationEpoch - Min score: 14, 15edce21-508d-46db-8ea9-44953399877d\n",
      "EvaluationEpoch - Max score: 27, 909966bb-75e5-4249-8467-455a3f6d54f6\n",
      "PopulationEvolver - Evolving 1 individuals from population of 100 individuals.\n",
      "PopulationDestroyer - Destroying 1 individuals from population of 100 individuals.\n",
      "FileWriter - Saving population file to ./populations/population100_2136_10.json\n",
      "Saved population of size 100 to ./populations/population100_2136_10.json.\n",
      "Running score: 116.64999999999999/192\n",
      "Running percent correct: 0.6075520833333333\n",
      "FileLoader - Loading population file from ./populations/population100_2136_10.json\n"
     ]
    }
   ],
   "source": [
    "while True:\n",
    "    pipeline.run(PopulationDTO([]))"
   ]
  }
 ],
 "metadata": {
  "kernelspec": {
   "display_name": "Python 3",
   "language": "python",
   "name": "python3"
  },
  "language_info": {
   "codemirror_mode": {
    "name": "ipython",
    "version": 3
   },
   "file_extension": ".py",
   "mimetype": "text/x-python",
   "name": "python",
   "nbconvert_exporter": "python",
   "pygments_lexer": "ipython3",
   "version": "3.13.0"
  }
 },
 "nbformat": 4,
 "nbformat_minor": 2
}
