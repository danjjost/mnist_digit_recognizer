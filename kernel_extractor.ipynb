{
 "cells": [
  {
   "cell_type": "code",
   "execution_count": 1,
   "metadata": {},
   "outputs": [
    {
     "name": "stdout",
     "output_type": "stream",
     "text": [
      "Model loaded successfully.\n",
      "3x3 Kernels (Weights) of the Conv1 Layer:\n",
      "Kernel 1:\n",
      "[[-0.03431337  0.23040098 -0.32356027]\n",
      " [-0.29984933 -0.107909   -0.09893321]\n",
      " [-0.3094766   0.05762419  0.16151679]]\n",
      "Kernel 2:\n",
      "[[0.14889278 0.30925864 0.06695294]\n",
      " [1.0256958  0.72835135 0.9281884 ]\n",
      " [1.1492832  0.96711564 0.55681336]]\n",
      "Kernel 3:\n",
      "[[-1.4979255  -1.0722408  -1.1007311 ]\n",
      " [-0.6175827  -0.31201962 -1.0679379 ]\n",
      " [ 1.0477579   1.0510583   0.7730589 ]]\n",
      "Kernel 4:\n",
      "[[-0.19065571  0.74855924  1.3533834 ]\n",
      " [ 0.12472851  1.5501034   1.3432286 ]\n",
      " [ 0.08097316  0.28835735 -0.19931725]]\n",
      "Kernel 5:\n",
      "[[ 1.6856706  -0.3631743  -0.78715235]\n",
      " [ 0.25925413 -1.0696309  -0.20901743]\n",
      " [-0.9097826  -0.0019105   1.3699291 ]]\n",
      "Kernel 6:\n",
      "[[ 0.82920474 -0.7190052  -1.5637227 ]\n",
      " [ 1.3368105  -0.02833749 -1.4797611 ]\n",
      " [ 1.2175187   1.092427    0.26224104]]\n",
      "Kernel 7:\n",
      "[[-1.3112082  -1.8706939  -1.5997347 ]\n",
      " [ 0.8280369   0.09072771 -0.39141402]\n",
      " [ 1.5034438   1.8352776   1.432895  ]]\n",
      "Kernel 8:\n",
      "[[-1.3916092  -1.4993192   0.00945535]\n",
      " [-1.530441   -0.16645603  1.4911125 ]\n",
      " [-0.80281365  1.0331721   1.5699245 ]]\n"
     ]
    },
    {
     "name": "stderr",
     "output_type": "stream",
     "text": [
      "C:\\Users\\Dan\\AppData\\Local\\Temp\\ipykernel_19168\\3996700790.py:12: FutureWarning: You are using `torch.load` with `weights_only=False` (the current default value), which uses the default pickle module implicitly. It is possible to construct malicious pickle data which will execute arbitrary code during unpickling (See https://github.com/pytorch/pytorch/blob/main/SECURITY.md#untrusted-models for more details). In a future release, the default value for `weights_only` will be flipped to `True`. This limits the functions that could be executed during unpickling. Arbitrary objects will no longer be allowed to be loaded via this mode unless they are explicitly allowlisted by the user via `torch.serialization.add_safe_globals`. We recommend you start setting `weights_only=True` for any use case where you don't have full control of the loaded file. Please open an issue on GitHub for any issues related to this experimental feature.\n",
      "  net.load_state_dict(torch.load(saved_model_path))\n"
     ]
    }
   ],
   "source": [
    "import torch\n",
    "from torch_implementation.mnist_digit_recognizer_neural_net import MNISTDigitRecognizerNeuralNet\n",
    "\n",
    "# Path to the saved model\n",
    "saved_model_path = './pytorch_models/mnist_digit_recognizer_neural_net.pth'\n",
    "\n",
    "# Initialize the model\n",
    "net = MNISTDigitRecognizerNeuralNet()\n",
    "\n",
    "# Load trained model weights\n",
    "if torch.cuda.is_available():\n",
    "    net.load_state_dict(torch.load(saved_model_path))\n",
    "else:\n",
    "    net.load_state_dict(torch.load(saved_model_path, map_location=torch.device('cpu')))\n",
    "\n",
    "print(\"Model loaded successfully.\")\n",
    "\n",
    "# Access and print the 3x3 kernels of the first convolutional layer\n",
    "conv1_kernels = net.conv1.weight.data\n",
    "\n",
    "print(\"3x3 Kernels (Weights) of the Conv1 Layer:\")\n",
    "for idx, kernel in enumerate(conv1_kernels):\n",
    "    print(f\"Kernel {idx + 1}:\")\n",
    "    print(kernel.squeeze().cpu().numpy()) "
   ]
  }
 ],
 "metadata": {
  "kernelspec": {
   "display_name": "Python 3",
   "language": "python",
   "name": "python3"
  },
  "language_info": {
   "codemirror_mode": {
    "name": "ipython",
    "version": 3
   },
   "file_extension": ".py",
   "mimetype": "text/x-python",
   "name": "python",
   "nbconvert_exporter": "python",
   "pygments_lexer": "ipython3",
   "version": "3.12.7"
  }
 },
 "nbformat": 4,
 "nbformat_minor": 2
}
