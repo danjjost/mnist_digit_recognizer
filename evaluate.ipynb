{
 "cells": [
  {
   "cell_type": "markdown",
   "metadata": {},
   "source": [
    "### 🔧 Import"
   ]
  },
  {
   "cell_type": "code",
   "execution_count": null,
   "metadata": {},
   "outputs": [],
   "source": [
    "from azure_config import AzureConfig\n",
    "from config import Config\n",
    "from src.digit_recognition.mnist_evaluation import MNISTEvaluation\n",
    "from src.file.file_loader import FileLoader\n",
    "from src.file.file_writer import FileWriter\n",
    "from src.neuralnet.to_dict.network_to_dict import NetworkToDict\n",
    "from src.pipeline.population_modifiers.epoch.parallel_evaluation_epoch import ParallelEvaluationEpoch\n",
    "from src.pipeline.population_modifiers.evolver.population_evolver import PopulationEvolver\n",
    "from src.pipeline.pipeline import Pipeline\n",
    "from src.pipeline.population import PopulationDTO\n",
    "from src.pipeline.population_modifiers.file.load_population import LoadPopulation\n",
    "from src.pipeline.population_modifiers.file.save_population import SavePopulation\n",
    "from src.pipeline.population_modifiers.population_mutator import PopulationMutator\n",
    "from config import NetworkEvaluationMode"
   ]
  },
  {
   "cell_type": "markdown",
   "metadata": {},
   "source": [
    "### 📦 Initialize Dependencies"
   ]
  },
  {
   "cell_type": "code",
   "execution_count": 2,
   "metadata": {},
   "outputs": [],
   "source": [
    "\n",
    "config = Config() # NOTE - THIS CONFIG WILL STILL NEED TO UPDATED IN CONFIG.PY. This evaluate class simplifies the pipeline for a speedier turnaround time.\n",
    "azure_config = AzureConfig()\n",
    "\n",
    "network_to_dict = NetworkToDict()\n",
    "\n",
    "file_loader = FileLoader()\n",
    "file_writer = FileWriter()\n",
    "\n",
    "evaluation = MNISTEvaluation(config)"
   ]
  },
  {
   "cell_type": "markdown",
   "metadata": {},
   "source": [
    "### 🔧 Configure Pipeline"
   ]
  },
  {
   "cell_type": "code",
   "execution_count": 3,
   "metadata": {},
   "outputs": [],
   "source": [
    "pipeline = Pipeline()\n",
    "\n",
    "pipeline.add(LoadPopulation(config.input_file_path, network_to_dict, file_loader))\n",
    "pipeline.add(ParallelEvaluationEpoch(evaluation))"
   ]
  },
  {
   "cell_type": "markdown",
   "metadata": {},
   "source": [
    "### 🏃‍♀️💨 Execute Training Cycles"
   ]
  },
  {
   "cell_type": "code",
   "execution_count": 4,
   "metadata": {},
   "outputs": [
    {
     "name": "stdout",
     "output_type": "stream",
     "text": [
      "FileLoader - Loading population file from ./populations/population100_2136_10.json\n",
      "EvaluationEpoch - Evaluation Epoch complete!\n",
      "EvaluationEpoch - Average score: 25.21\n",
      "EvaluationEpoch - Scores: [300, 320, 248, 242, 261, 175, 236, 284, 227, 228]\n",
      "Running score: 25.21/32\n",
      "Running percent correct: 0.7878125\n",
      "FileLoader - Loading population file from ./populations/population100_2136_10.json\n",
      "EvaluationEpoch - Evaluation Epoch complete!\n",
      "EvaluationEpoch - Average score: 25.97\n",
      "EvaluationEpoch - Scores: [577, 658, 502, 483, 530, 367, 499, 565, 442, 495]\n",
      "Running score: 51.18/64\n",
      "Running percent correct: 0.7996875\n",
      "FileLoader - Loading population file from ./populations/population100_2136_10.json\n",
      "EvaluationEpoch - Evaluation Epoch complete!\n",
      "EvaluationEpoch - Average score: 25.7\n",
      "EvaluationEpoch - Scores: [891, 964, 764, 716, 771, 548, 777, 854, 677, 726]\n",
      "Running score: 76.88/96\n",
      "Running percent correct: 0.8008333333333333\n",
      "FileLoader - Loading population file from ./populations/population100_2136_10.json\n",
      "EvaluationEpoch - Evaluation Epoch complete!\n",
      "EvaluationEpoch - Average score: 25.45\n",
      "EvaluationEpoch - Scores: [1165, 1309, 1027, 947, 1015, 703, 1053, 1107, 923, 984]\n",
      "Running score: 102.33/128\n",
      "Running percent correct: 0.799453125\n",
      "FileLoader - Loading population file from ./populations/population100_2136_10.json\n",
      "EvaluationEpoch - Evaluation Epoch complete!\n",
      "EvaluationEpoch - Average score: 25.49\n",
      "EvaluationEpoch - Scores: [1480, 1640, 1265, 1203, 1222, 876, 1329, 1378, 1157, 1232]\n",
      "Running score: 127.82/160\n",
      "Running percent correct: 0.798875\n",
      "FileLoader - Loading population file from ./populations/population100_2136_10.json\n",
      "EvaluationEpoch - Evaluation Epoch complete!\n",
      "EvaluationEpoch - Average score: 25.47\n",
      "EvaluationEpoch - Scores: [1767, 1935, 1506, 1443, 1470, 1076, 1608, 1674, 1373, 1477]\n",
      "Running score: 153.29/192\n",
      "Running percent correct: 0.7983854166666666\n",
      "FileLoader - Loading population file from ./populations/population100_2136_10.json\n",
      "EvaluationEpoch - Evaluation Epoch complete!\n",
      "EvaluationEpoch - Average score: 25.26\n",
      "EvaluationEpoch - Scores: [2085, 2207, 1758, 1700, 1753, 1259, 1878, 1934, 1572, 1709]\n",
      "Running score: 178.54999999999998/224\n",
      "Running percent correct: 0.7970982142857143\n",
      "FileLoader - Loading population file from ./populations/population100_2136_10.json\n",
      "EvaluationEpoch - Evaluation Epoch complete!\n",
      "EvaluationEpoch - Average score: 25.34\n",
      "EvaluationEpoch - Scores: [2379, 2475, 2014, 1910, 2026, 1448, 2149, 2192, 1822, 1974]\n",
      "Running score: 203.89/256\n",
      "Running percent correct: 0.7964453125\n",
      "FileLoader - Loading population file from ./populations/population100_2136_10.json\n",
      "EvaluationEpoch - Evaluation Epoch complete!\n",
      "EvaluationEpoch - Average score: 25.69\n",
      "EvaluationEpoch - Scores: [2713, 2777, 2266, 2154, 2264, 1628, 2443, 2449, 2054, 2210]\n",
      "Running score: 229.57999999999998/288\n",
      "Running percent correct: 0.7971527777777777\n",
      "FileLoader - Loading population file from ./populations/population100_2136_10.json\n",
      "EvaluationEpoch - Evaluation Epoch complete!\n",
      "EvaluationEpoch - Average score: 25.56\n",
      "EvaluationEpoch - Scores: [3002, 3092, 2518, 2423, 2510, 1810, 2712, 2725, 2287, 2435]\n",
      "Running score: 255.14/320\n",
      "Running percent correct: 0.7973125\n"
     ]
    }
   ],
   "source": [
    "for i in range(10):\n",
    "    pipeline.run(PopulationDTO([]))"
   ]
  }
 ],
 "metadata": {
  "kernelspec": {
   "display_name": "Python 3",
   "language": "python",
   "name": "python3"
  },
  "language_info": {
   "codemirror_mode": {
    "name": "ipython",
    "version": 3
   },
   "file_extension": ".py",
   "mimetype": "text/x-python",
   "name": "python",
   "nbconvert_exporter": "python",
   "pygments_lexer": "ipython3",
   "version": "3.12.7"
  }
 },
 "nbformat": 4,
 "nbformat_minor": 2
}
